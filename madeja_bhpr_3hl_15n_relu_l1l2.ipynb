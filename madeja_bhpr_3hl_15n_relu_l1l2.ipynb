{
 "cells": [
  {
   "cell_type": "code",
   "execution_count": 1,
   "id": "56a788ed-151f-4c4a-a3b7-cefbb693e114",
   "metadata": {},
   "outputs": [],
   "source": [
    "# SPECIFICATIONS\n",
    "import numpy as np\n",
    "from keras.models import Sequential\n",
    "from keras.layers import Dense, Activation\n",
    "from keras.datasets import boston_housing\n",
    "from keras.optimizers import Adam\n",
    "from keras.regularizers import L1L2\n",
    "from sklearn.preprocessing import StandardScaler"
   ]
  },
  {
   "cell_type": "code",
   "execution_count": 2,
   "id": "ae975220-6ed8-427b-837c-6e340579c939",
   "metadata": {},
   "outputs": [],
   "source": [
    "# LOAD DATASET\n",
    "(x_train, y_train), (x_test, y_test) = boston_housing.load_data()\n",
    "\n",
    "scalar = StandardScaler()\n",
    "x_train = scalar.fit_transform(x_train)\n",
    "x_test = scalar.transform(x_test)"
   ]
  },
  {
   "cell_type": "code",
   "execution_count": 3,
   "id": "5170f5f3-f961-445c-9b15-4e8383ba6077",
   "metadata": {},
   "outputs": [
    {
     "name": "stdout",
     "output_type": "stream",
     "text": [
      "Model: \"sequential\"\n",
      "_________________________________________________________________\n",
      " Layer (type)                Output Shape              Param #   \n",
      "=================================================================\n",
      " dense (Dense)               (None, 15)                210       \n",
      "                                                                 \n",
      " dense_1 (Dense)             (None, 15)                240       \n",
      "                                                                 \n",
      " dense_2 (Dense)             (None, 15)                240       \n",
      "                                                                 \n",
      " dense_3 (Dense)             (None, 1)                 16        \n",
      "                                                                 \n",
      "=================================================================\n",
      "Total params: 706\n",
      "Trainable params: 706\n",
      "Non-trainable params: 0\n",
      "_________________________________________________________________\n",
      "Epoch 1/20\n",
      "35/35 [==============================] - 2s 25ms/step - loss: 14.7821 - val_loss: 7.9033\n",
      "Epoch 2/20\n",
      "35/35 [==============================] - 0s 3ms/step - loss: 5.5446 - val_loss: 5.1113\n",
      "Epoch 3/20\n",
      "35/35 [==============================] - 0s 3ms/step - loss: 4.4319 - val_loss: 4.4319\n",
      "Epoch 4/20\n",
      "35/35 [==============================] - 0s 2ms/step - loss: 3.9480 - val_loss: 5.3228\n",
      "Epoch 5/20\n",
      "35/35 [==============================] - 0s 3ms/step - loss: 3.8442 - val_loss: 3.9183\n",
      "Epoch 6/20\n",
      "35/35 [==============================] - 0s 2ms/step - loss: 3.5730 - val_loss: 3.8832\n",
      "Epoch 7/20\n",
      "35/35 [==============================] - 0s 3ms/step - loss: 3.5092 - val_loss: 3.6091\n",
      "Epoch 8/20\n",
      "35/35 [==============================] - 0s 2ms/step - loss: 3.4221 - val_loss: 3.7385\n",
      "Epoch 9/20\n",
      "35/35 [==============================] - 0s 3ms/step - loss: 3.3120 - val_loss: 4.1015\n",
      "Epoch 10/20\n",
      "35/35 [==============================] - 0s 4ms/step - loss: 3.1980 - val_loss: 3.6597\n",
      "Epoch 11/20\n",
      "35/35 [==============================] - 0s 3ms/step - loss: 3.2336 - val_loss: 3.6823\n",
      "Epoch 12/20\n",
      "35/35 [==============================] - 0s 2ms/step - loss: 3.1306 - val_loss: 3.6766\n",
      "Epoch 13/20\n",
      "35/35 [==============================] - 0s 3ms/step - loss: 3.1839 - val_loss: 3.3359\n",
      "Epoch 14/20\n",
      "35/35 [==============================] - 0s 4ms/step - loss: 3.3460 - val_loss: 3.5711\n",
      "Epoch 15/20\n",
      "35/35 [==============================] - 0s 3ms/step - loss: 3.1277 - val_loss: 3.8317\n",
      "Epoch 16/20\n",
      "35/35 [==============================] - 0s 3ms/step - loss: 3.1606 - val_loss: 3.6714\n",
      "Epoch 17/20\n",
      "35/35 [==============================] - 0s 3ms/step - loss: 3.0740 - val_loss: 3.2154\n",
      "Epoch 18/20\n",
      "35/35 [==============================] - 0s 2ms/step - loss: 3.1653 - val_loss: 3.5235\n",
      "Epoch 19/20\n",
      "35/35 [==============================] - 0s 3ms/step - loss: 3.1126 - val_loss: 3.3535\n",
      "Epoch 20/20\n",
      "35/35 [==============================] - 0s 3ms/step - loss: 2.9383 - val_loss: 3.1624\n"
     ]
    }
   ],
   "source": [
    "# BUILD AND TRAIN MODEL\n",
    "model = Sequential()\n",
    "model.add(Dense(15, activation='relu', input_shape=(x_train.shape[1],), kernel_regularizer=L1L2(l1=0.01, l2=0.01)))\n",
    "model.add(Dense(15, activation='relu', kernel_regularizer=L1L2(l1=0.01, l2=0.01)))\n",
    "model.add(Dense(15, activation='relu', kernel_regularizer=L1L2(l1=0.01, l2=0.01)))\n",
    "model.add(Dense(1, activation='relu', kernel_regularizer=L1L2(l1=0.01, l2=0.01)))\n",
    "\n",
    "model.summary()\n",
    "model.compile(optimizer=Adam(learning_rate=0.01), loss='mean_absolute_error')\n",
    "history = model.fit(x_train, y_train, epochs=20, batch_size=10, validation_split=0.15)"
   ]
  },
  {
   "cell_type": "code",
   "execution_count": 4,
   "id": "83729b10-bfd6-4c05-83f2-ce55293ae1e1",
   "metadata": {},
   "outputs": [
    {
     "name": "stdout",
     "output_type": "stream",
     "text": [
      "4/4 [==============================] - 0s 1ms/step - loss: 3.8545\n",
      "Test Loss: 3.8544743061065674\n",
      "4/4 [==============================] - 0s 5ms/step\n"
     ]
    }
   ],
   "source": [
    "# PREDICT\n",
    "test_loss = model.evaluate(x_test, y_test)\n",
    "print(\"Test Loss:\", test_loss)\n",
    "\n",
    "predictions = model.predict(x_test)"
   ]
  },
  {
   "cell_type": "code",
   "execution_count": 5,
   "id": "54ceb62a-3d47-41ab-9a64-5ed0a222184f",
   "metadata": {},
   "outputs": [
    {
     "data": {
      "image/png": "[encoded data removed]",
      "text/plain": [
       "<Figure size 640x480 with 1 Axes>"
      ]
     },
     "metadata": {},
     "output_type": "display_data"
    }
   ],
   "source": [
    "# TRAINING AND VALIDATION PLOT\n",
    "import matplotlib.pyplot as plt\n",
    "\n",
    "# Plot training & validation loss values\n",
    "plt.plot(history.history['loss'])\n",
    "plt.plot(history.history['val_loss'])\n",
    "plt.title('Model loss')\n",
    "plt.ylabel('Loss')\n",
    "plt.xlabel('Epoch')\n",
    "plt.legend(['Train', 'Validation'], loc='upper left')\n",
    "plt.show()"
   ]
  },
  {
   "cell_type": "code",
   "execution_count": null,
   "id": "ac869c7a-2035-41dc-a7e5-707735328f06",
   "metadata": {},
   "outputs": [],
   "source": []
  }
 ],
 "metadata": {
  "kernelspec": {
   "display_name": "Python 3 (ipykernel)",
   "language": "python",
   "name": "python3"
  },
  "language_info": {
   "codemirror_mode": {
    "name": "ipython",
    "version": 3
   },
   "file_extension": ".py",
   "mimetype": "text/x-python",
   "name": "python",
   "nbconvert_exporter": "python",
   "pygments_lexer": "ipython3",
   "version": "3.10.8"
  }
 },
 "nbformat": 4,
 "nbformat_minor": 5
}
