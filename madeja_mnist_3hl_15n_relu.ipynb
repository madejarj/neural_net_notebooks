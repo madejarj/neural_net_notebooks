{
 "cells": [
  {
   "cell_type": "code",
   "execution_count": 1,
   "id": "e344a750-fbbc-45a9-9b61-c339544641ae",
   "metadata": {},
   "outputs": [],
   "source": [
    "# SPECIFICATIONS\n",
    "import numpy as np\n",
    "from keras.models import Sequential\n",
    "from keras.layers import Dense, Flatten\n",
    "from keras.datasets import mnist\n",
    "from keras.optimizers import Adam\n",
    "from keras.utils import to_categorical"
   ]
  },
  {
   "cell_type": "code",
   "execution_count": 2,
   "id": "85a3acdc-da13-4d0a-9c8c-433c758beea1",
   "metadata": {},
   "outputs": [],
   "source": [
    "# LOAD DATASET\n",
    "(x_train, y_train), (x_test, y_test) = mnist.load_data()\n",
    "\n",
    "x_train = x_train.reshape(-1, 28 * 28) / 255.0\n",
    "x_test = x_test.reshape(-1, 28 * 28) / 255.0\n",
    "y_train = to_categorical(y_train)\n",
    "y_test = to_categorical(y_test)"
   ]
  },
  {
   "cell_type": "code",
   "execution_count": 3,
   "id": "226345d3-7aec-4665-88c2-5a6b663e85ef",
   "metadata": {},
   "outputs": [
    {
     "name": "stdout",
     "output_type": "stream",
     "text": [
      "Model: \"sequential\"\n",
      "_________________________________________________________________\n",
      " Layer (type)                Output Shape              Param #   \n",
      "=================================================================\n",
      " dense (Dense)               (None, 15)                11775     \n",
      "                                                                 \n",
      " dense_1 (Dense)             (None, 15)                240       \n",
      "                                                                 \n",
      " dense_2 (Dense)             (None, 15)                240       \n",
      "                                                                 \n",
      " dense_3 (Dense)             (None, 10)                160       \n",
      "                                                                 \n",
      "=================================================================\n",
      "Total params: 12,415\n",
      "Trainable params: 12,415\n",
      "Non-trainable params: 0\n",
      "_________________________________________________________________\n",
      "Epoch 1/20\n",
      "5100/5100 [==============================] - 9s 2ms/step - loss: 0.5213 - accuracy: 0.8448 - val_loss: 0.3601 - val_accuracy: 0.8997\n",
      "Epoch 2/20\n",
      "5100/5100 [==============================] - 7s 1ms/step - loss: 0.4179 - accuracy: 0.8830 - val_loss: 0.3474 - val_accuracy: 0.9034\n",
      "Epoch 3/20\n",
      "5100/5100 [==============================] - 8s 1ms/step - loss: 0.4002 - accuracy: 0.8924 - val_loss: 0.3944 - val_accuracy: 0.8942\n",
      "Epoch 4/20\n",
      "5100/5100 [==============================] - 10s 2ms/step - loss: 0.3895 - accuracy: 0.8940 - val_loss: 0.3510 - val_accuracy: 0.9043\n",
      "Epoch 5/20\n",
      "5100/5100 [==============================] - 10s 2ms/step - loss: 0.3812 - accuracy: 0.8977 - val_loss: 0.4090 - val_accuracy: 0.8888\n",
      "Epoch 6/20\n",
      "5100/5100 [==============================] - 10s 2ms/step - loss: 0.3779 - accuracy: 0.8987 - val_loss: 0.3578 - val_accuracy: 0.9051\n",
      "Epoch 7/20\n",
      "5100/5100 [==============================] - 10s 2ms/step - loss: 0.3783 - accuracy: 0.8975 - val_loss: 0.3514 - val_accuracy: 0.9031\n",
      "Epoch 8/20\n",
      "5100/5100 [==============================] - 10s 2ms/step - loss: 0.3742 - accuracy: 0.9019 - val_loss: 0.3293 - val_accuracy: 0.9119\n",
      "Epoch 9/20\n",
      "5100/5100 [==============================] - 10s 2ms/step - loss: 0.3763 - accuracy: 0.9004 - val_loss: 0.3394 - val_accuracy: 0.9097\n",
      "Epoch 10/20\n",
      "5100/5100 [==============================] - 10s 2ms/step - loss: 0.3709 - accuracy: 0.9018 - val_loss: 0.4831 - val_accuracy: 0.8818\n",
      "Epoch 11/20\n",
      "5100/5100 [==============================] - 10s 2ms/step - loss: 0.3685 - accuracy: 0.9034 - val_loss: 0.3649 - val_accuracy: 0.9018\n",
      "Epoch 12/20\n",
      "5100/5100 [==============================] - 10s 2ms/step - loss: 0.3716 - accuracy: 0.9017 - val_loss: 0.3535 - val_accuracy: 0.9071\n",
      "Epoch 13/20\n",
      "5100/5100 [==============================] - 10s 2ms/step - loss: 0.3646 - accuracy: 0.9028 - val_loss: 0.3802 - val_accuracy: 0.9038\n",
      "Epoch 14/20\n",
      "5100/5100 [==============================] - 10s 2ms/step - loss: 0.3632 - accuracy: 0.9032 - val_loss: 0.3170 - val_accuracy: 0.9159\n",
      "Epoch 15/20\n",
      "5100/5100 [==============================] - 10s 2ms/step - loss: 0.3688 - accuracy: 0.8999 - val_loss: 0.3911 - val_accuracy: 0.9049\n",
      "Epoch 16/20\n",
      "5100/5100 [==============================] - 10s 2ms/step - loss: 0.3603 - accuracy: 0.9040 - val_loss: 0.3368 - val_accuracy: 0.9009\n",
      "Epoch 17/20\n",
      "5100/5100 [==============================] - 10s 2ms/step - loss: 0.3535 - accuracy: 0.9039 - val_loss: 0.3415 - val_accuracy: 0.9071\n",
      "Epoch 18/20\n",
      "5100/5100 [==============================] - 10s 2ms/step - loss: 0.3602 - accuracy: 0.9025 - val_loss: 0.3553 - val_accuracy: 0.9167\n",
      "Epoch 19/20\n",
      "5100/5100 [==============================] - 10s 2ms/step - loss: 0.3582 - accuracy: 0.9026 - val_loss: 0.3506 - val_accuracy: 0.9102\n",
      "Epoch 20/20\n",
      "5100/5100 [==============================] - 10s 2ms/step - loss: 0.3531 - accuracy: 0.9052 - val_loss: 0.3378 - val_accuracy: 0.9137\n"
     ]
    }
   ],
   "source": [
    "# BUILD AND TRAIN MODEL\n",
    "model = Sequential()\n",
    "model.add(Dense(15, activation='relu', input_shape=(28 * 28,)))\n",
    "model.add(Dense(15, activation='relu'))\n",
    "model.add(Dense(15, activation='relu'))\n",
    "model.add(Dense(10, activation='softmax'))\n",
    "\n",
    "model.summary()\n",
    "model.compile(optimizer=Adam(learning_rate=0.01), loss='categorical_crossentropy', metrics=['accuracy'])\n",
    "history = model.fit(x_train, y_train, epochs=20, batch_size=10, validation_split=0.15)"
   ]
  },
  {
   "cell_type": "code",
   "execution_count": 4,
   "id": "7f058523-131c-4566-8850-4d524a8c73e9",
   "metadata": {},
   "outputs": [
    {
     "name": "stdout",
     "output_type": "stream",
     "text": [
      "313/313 [==============================] - 1s 1ms/step - loss: 0.3562 - accuracy: 0.9089\n",
      "Test Loss: 0.3562174439430237\n",
      "Test Accuracy: 0.9089000225067139\n",
      "313/313 [==============================] - 1s 1ms/step\n"
     ]
    }
   ],
   "source": [
    "# PREDICT\n",
    "test_loss, test_accuracy = model.evaluate(x_test, y_test)\n",
    "print(\"Test Loss:\", test_loss)\n",
    "print(\"Test Accuracy:\", test_accuracy)\n",
    "\n",
    "predictions = model.predict(x_test)\n",
    "predicted_classes = np.argmax(predictions, axis=1)"
   ]
  },
  {
   "cell_type": "code",
   "execution_count": null,
   "id": "98475632-0a67-4743-8666-5451b65fe453",
   "metadata": {},
   "outputs": [],
   "source": []
  }
 ],
 "metadata": {
  "kernelspec": {
   "display_name": "Python 3 (ipykernel)",
   "language": "python",
   "name": "python3"
  },
  "language_info": {
   "codemirror_mode": {
    "name": "ipython",
    "version": 3
   },
   "file_extension": ".py",
   "mimetype": "text/x-python",
   "name": "python",
   "nbconvert_exporter": "python",
   "pygments_lexer": "ipython3",
   "version": "3.10.8"
  }
 },
 "nbformat": 4,
 "nbformat_minor": 5
}
