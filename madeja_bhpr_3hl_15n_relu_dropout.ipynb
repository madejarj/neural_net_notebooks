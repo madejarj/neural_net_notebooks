{
 "cells": [
  {
   "cell_type": "code",
   "execution_count": 1,
   "id": "ff7f2a28-0d86-4cf1-b4f3-81a5a4248db3",
   "metadata": {},
   "outputs": [],
   "source": [
    "# SPECIFICATIONS\n",
    "import numpy as np\n",
    "from keras.models import Sequential\n",
    "from keras.layers import Dense, Activation, Dropout\n",
    "from keras.datasets import boston_housing\n",
    "from keras.optimizers import Adam\n",
    "from sklearn.preprocessing import StandardScaler"
   ]
  },
  {
   "cell_type": "code",
   "execution_count": 2,
   "id": "02968a87-2d73-416d-a1ed-852d23b0e2ac",
   "metadata": {},
   "outputs": [],
   "source": [
    "# LOAD DATASET\n",
    "(x_train, y_train), (x_test, y_test) = boston_housing.load_data()\n",
    "\n",
    "scalar = StandardScaler()\n",
    "x_train = scalar.fit_transform(x_train)\n",
    "x_test = scalar.transform(x_test)"
   ]
  },
  {
   "cell_type": "code",
   "execution_count": 3,
   "id": "e5669d9c-ce63-428c-9846-9d12457e7abb",
   "metadata": {},
   "outputs": [
    {
     "name": "stdout",
     "output_type": "stream",
     "text": [
      "Model: \"sequential\"\n",
      "_________________________________________________________________\n",
      " Layer (type)                Output Shape              Param #   \n",
      "=================================================================\n",
      " dense (Dense)               (None, 15)                210       \n",
      "                                                                 \n",
      " dropout (Dropout)           (None, 15)                0         \n",
      "                                                                 \n",
      " dense_1 (Dense)             (None, 15)                240       \n",
      "                                                                 \n",
      " dropout_1 (Dropout)         (None, 15)                0         \n",
      "                                                                 \n",
      " dense_2 (Dense)             (None, 15)                240       \n",
      "                                                                 \n",
      " dropout_2 (Dropout)         (None, 15)                0         \n",
      "                                                                 \n",
      " dense_3 (Dense)             (None, 1)                 16        \n",
      "                                                                 \n",
      "=================================================================\n",
      "Total params: 706\n",
      "Trainable params: 706\n",
      "Non-trainable params: 0\n",
      "_________________________________________________________________\n",
      "Epoch 1/20\n",
      "35/35 [==============================] - 1s 9ms/step - loss: 14.5080 - val_loss: 6.6424\n",
      "Epoch 2/20\n",
      "35/35 [==============================] - 0s 3ms/step - loss: 8.1988 - val_loss: 3.7989\n",
      "Epoch 3/20\n",
      "35/35 [==============================] - 0s 6ms/step - loss: 6.4350 - val_loss: 3.9306\n",
      "Epoch 4/20\n",
      "35/35 [==============================] - 0s 3ms/step - loss: 5.8793 - val_loss: 3.2040\n",
      "Epoch 5/20\n",
      "35/35 [==============================] - 0s 3ms/step - loss: 5.9678 - val_loss: 3.2036\n",
      "Epoch 6/20\n",
      "35/35 [==============================] - 0s 3ms/step - loss: 6.1161 - val_loss: 3.2780\n",
      "Epoch 7/20\n",
      "35/35 [==============================] - 0s 4ms/step - loss: 5.6029 - val_loss: 4.6675\n",
      "Epoch 8/20\n",
      "35/35 [==============================] - 0s 4ms/step - loss: 5.4800 - val_loss: 3.2189\n",
      "Epoch 9/20\n",
      "35/35 [==============================] - 0s 4ms/step - loss: 5.1511 - val_loss: 3.8432\n",
      "Epoch 10/20\n",
      "35/35 [==============================] - 0s 2ms/step - loss: 5.1065 - val_loss: 4.4901\n",
      "Epoch 11/20\n",
      "35/35 [==============================] - 0s 3ms/step - loss: 5.3779 - val_loss: 2.8646\n",
      "Epoch 12/20\n",
      "35/35 [==============================] - 0s 3ms/step - loss: 5.2362 - val_loss: 2.8569\n",
      "Epoch 13/20\n",
      "35/35 [==============================] - 0s 3ms/step - loss: 5.3479 - val_loss: 3.4895\n",
      "Epoch 14/20\n",
      "35/35 [==============================] - 0s 3ms/step - loss: 4.8588 - val_loss: 2.9684\n",
      "Epoch 15/20\n",
      "35/35 [==============================] - 0s 3ms/step - loss: 4.7436 - val_loss: 2.8182\n",
      "Epoch 16/20\n",
      "35/35 [==============================] - 0s 3ms/step - loss: 5.0416 - val_loss: 3.4210\n",
      "Epoch 17/20\n",
      "35/35 [==============================] - 0s 3ms/step - loss: 5.1357 - val_loss: 3.2021\n",
      "Epoch 18/20\n",
      "35/35 [==============================] - 0s 3ms/step - loss: 5.0842 - val_loss: 3.1566\n",
      "Epoch 19/20\n",
      "35/35 [==============================] - 0s 4ms/step - loss: 4.8683 - val_loss: 3.1001\n",
      "Epoch 20/20\n",
      "35/35 [==============================] - 0s 4ms/step - loss: 4.8817 - val_loss: 3.1067\n"
     ]
    }
   ],
   "source": [
    "# BUILD AND TRAIN MODEL\n",
    "model = Sequential()\n",
    "model.add(Dense(15, activation='relu', input_shape=(x_train.shape[1],)))\n",
    "model.add(Dropout(0.2))\n",
    "model.add(Dense(15, activation='relu'))\n",
    "model.add(Dropout(0.2))\n",
    "model.add(Dense(15, activation='relu'))\n",
    "model.add(Dropout(0.2))\n",
    "model.add(Dense(1, activation='relu'))\n",
    "\n",
    "model.summary()\n",
    "model.compile(optimizer=Adam(learning_rate=0.01), loss='mean_absolute_error')\n",
    "history = model.fit(x_train, y_train, epochs=20, batch_size=10, validation_split=0.15)"
   ]
  },
  {
   "cell_type": "code",
   "execution_count": 4,
   "id": "4a29c2ee-b6e0-4879-a4e5-3b310812902f",
   "metadata": {},
   "outputs": [
    {
     "name": "stdout",
     "output_type": "stream",
     "text": [
      "4/4 [==============================] - 0s 5ms/step - loss: 3.7382\n",
      "Test Loss: 3.7381834983825684\n",
      "4/4 [==============================] - 0s 52ms/step\n"
     ]
    }
   ],
   "source": [
    "# PREDICT\n",
    "test_loss = model.evaluate(x_test, y_test)\n",
    "print(\"Test Loss:\", test_loss)\n",
    "\n",
    "predictions = model.predict(x_test)"
   ]
  },
  {
   "cell_type": "code",
   "execution_count": 5,
   "id": "9ccb87e2-aab4-4bfc-987d-04dafd548f75",
   "metadata": {},
   "outputs": [
    {
     "data": {
      "image/png": "[encoded data removed]",
      "text/plain": [
       "<Figure size 640x480 with 1 Axes>"
      ]
     },
     "metadata": {},
     "output_type": "display_data"
    }
   ],
   "source": [
    "# TRAINING AND VALIDATION PLOT\n",
    "import matplotlib.pyplot as plt\n",
    "\n",
    "plt.plot(history.history['loss'])\n",
    "plt.plot(history.history['val_loss'])\n",
    "plt.title('Model loss')\n",
    "plt.ylabel('Loss')\n",
    "plt.xlabel('Epoch')\n",
    "plt.legend(['Train', 'Validation'], loc='upper left')\n",
    "plt.show()"
   ]
  },
  {
   "cell_type": "code",
   "execution_count": null,
   "id": "b9ecbbf3-9681-499b-bdcb-81fccb0a8cca",
   "metadata": {},
   "outputs": [],
   "source": []
  }
 ],
 "metadata": {
  "kernelspec": {
   "display_name": "Python 3 (ipykernel)",
   "language": "python",
   "name": "python3"
  },
  "language_info": {
   "codemirror_mode": {
    "name": "ipython",
    "version": 3
   },
   "file_extension": ".py",
   "mimetype": "text/x-python",
   "name": "python",
   "nbconvert_exporter": "python",
   "pygments_lexer": "ipython3",
   "version": "3.10.8"
  }
 },
 "nbformat": 4,
 "nbformat_minor": 5
}
