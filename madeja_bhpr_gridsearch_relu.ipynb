{
 "cells": [
  {
   "cell_type": "code",
   "execution_count": 1,
   "id": "2e4d7044-9cbc-4d57-b620-d3687e5f4067",
   "metadata": {},
   "outputs": [],
   "source": [
    "# SPECIFICATIONS\n",
    "import numpy as np\n",
    "from keras.models import Sequential\n",
    "from keras.layers import Dense\n",
    "from keras.datasets import boston_housing\n",
    "from keras.optimizers import Adam\n",
    "from sklearn.preprocessing import StandardScaler\n",
    "from sklearn.model_selection import GridSearchCV\n",
    "from keras.wrappers.scikit_learn import KerasRegressor"
   ]
  },
  {
   "cell_type": "code",
   "execution_count": 2,
   "id": "8760a417-0392-4baa-a547-60904e55563a",
   "metadata": {},
   "outputs": [],
   "source": [
    "# LOAD DATASET\n",
    "(x_train, y_train), (x_test, y_test) = boston_housing.load_data()\n",
    "\n",
    "scalar = StandardScaler()\n",
    "x_train = scalar.fit_transform(x_train)\n",
    "x_test = scalar.transform(x_test)"
   ]
  },
  {
   "cell_type": "code",
   "execution_count": 3,
   "id": "9df1e89e-95cc-445a-ab5c-441b14180117",
   "metadata": {},
   "outputs": [
    {
     "name": "stderr",
     "output_type": "stream",
     "text": [
      "C:\\Users\\user\\AppData\\Local\\Temp\\ipykernel_10008\\2662850390.py:12: DeprecationWarning: KerasRegressor is deprecated, use Sci-Keras (https://github.com/adriangb/scikeras) instead. See https://www.adriangb.com/scikeras/stable/migration.html for help migrating.\n",
      "  model = KerasRegressor(build_fn=build_model)\n"
     ]
    }
   ],
   "source": [
    "# BUILD MODEL FUNCTION\n",
    "def build_model(learning_rate=0.01, batch_size=10, epochs=20):\n",
    "    model = Sequential()\n",
    "    model.add(Dense(15, activation='relu', input_shape=(x_train.shape[1],)))\n",
    "    model.add(Dense(15, activation='relu'))\n",
    "    model.add(Dense(15, activation='relu'))\n",
    "    model.add(Dense(1, activation='relu'))\n",
    "\n",
    "    model.compile(optimizer=Adam(learning_rate=learning_rate), loss='mean_absolute_error')\n",
    "    return model\n",
    "\n",
    "model = KerasRegressor(build_fn=build_model)"
   ]
  },
  {
   "cell_type": "code",
   "execution_count": 4,
   "id": "be318516-1c95-4dca-8299-fe1ce5ea96e2",
   "metadata": {},
   "outputs": [
    {
     "name": "stdout",
     "output_type": "stream",
     "text": [
      "Epoch 1/30\n",
      "13/13 [==============================] - 0s 3ms/step - loss: 20.2608\n",
      "Epoch 2/30\n",
      "13/13 [==============================] - 0s 3ms/step - loss: 9.7499\n",
      "Epoch 3/30\n",
      "13/13 [==============================] - 0s 3ms/step - loss: 5.7033\n",
      "Epoch 4/30\n",
      "13/13 [==============================] - 0s 3ms/step - loss: 3.8882\n",
      "Epoch 5/30\n",
      "13/13 [==============================] - 0s 1ms/step - loss: 3.2440\n",
      "Epoch 6/30\n",
      "13/13 [==============================] - 0s 1ms/step - loss: 2.9193\n",
      "Epoch 7/30\n",
      "13/13 [==============================] - 0s 4ms/step - loss: 2.7139\n",
      "Epoch 8/30\n",
      "13/13 [==============================] - 0s 3ms/step - loss: 2.5445\n",
      "Epoch 9/30\n",
      "13/13 [==============================] - 0s 3ms/step - loss: 2.5766\n",
      "Epoch 10/30\n",
      "13/13 [==============================] - 0s 3ms/step - loss: 2.5323\n",
      "Epoch 11/30\n",
      "13/13 [==============================] - 0s 4ms/step - loss: 2.3694\n",
      "Epoch 12/30\n",
      "13/13 [==============================] - 0s 3ms/step - loss: 2.2702\n",
      "Epoch 13/30\n",
      "13/13 [==============================] - 0s 3ms/step - loss: 2.2581\n",
      "Epoch 14/30\n",
      "13/13 [==============================] - 0s 3ms/step - loss: 2.1756\n",
      "Epoch 15/30\n",
      "13/13 [==============================] - 0s 3ms/step - loss: 2.1103\n",
      "Epoch 16/30\n",
      "13/13 [==============================] - 0s 3ms/step - loss: 2.0618\n",
      "Epoch 17/30\n",
      "13/13 [==============================] - 0s 4ms/step - loss: 1.9738\n",
      "Epoch 18/30\n",
      "13/13 [==============================] - 0s 4ms/step - loss: 2.0408\n",
      "Epoch 19/30\n",
      "13/13 [==============================] - 0s 4ms/step - loss: 1.9645\n",
      "Epoch 20/30\n",
      "13/13 [==============================] - 0s 3ms/step - loss: 1.9237\n",
      "Epoch 21/30\n",
      "13/13 [==============================] - 0s 3ms/step - loss: 2.0203\n",
      "Epoch 22/30\n",
      "13/13 [==============================] - 0s 3ms/step - loss: 2.0552\n",
      "Epoch 23/30\n",
      "13/13 [==============================] - 0s 3ms/step - loss: 2.0295\n",
      "Epoch 24/30\n",
      "13/13 [==============================] - 0s 3ms/step - loss: 2.1370\n",
      "Epoch 25/30\n",
      "13/13 [==============================] - 0s 4ms/step - loss: 2.1962\n",
      "Epoch 26/30\n",
      "13/13 [==============================] - 0s 3ms/step - loss: 2.0159\n",
      "Epoch 27/30\n",
      "13/13 [==============================] - 0s 4ms/step - loss: 2.0150\n",
      "Epoch 28/30\n",
      "13/13 [==============================] - 0s 4ms/step - loss: 2.0156\n",
      "Epoch 29/30\n",
      "13/13 [==============================] - 0s 5ms/step - loss: 2.1117\n",
      "Epoch 30/30\n",
      "13/13 [==============================] - 0s 5ms/step - loss: 2.0437\n",
      "Best: -2.382335 using {'batch_size': 32, 'epochs': 30, 'learning_rate': 0.01}\n",
      "-9.304706 (9.165368) with: {'batch_size': 16, 'epochs': 10, 'learning_rate': 0.01}\n",
      "-2.683170 (0.066255) with: {'batch_size': 16, 'epochs': 10, 'learning_rate': 0.1}\n",
      "-13.836034 (6.906413) with: {'batch_size': 16, 'epochs': 10, 'learning_rate': 1.0}\n",
      "-2.825436 (0.254823) with: {'batch_size': 16, 'epochs': 20, 'learning_rate': 0.01}\n",
      "-2.543677 (0.174392) with: {'batch_size': 16, 'epochs': 20, 'learning_rate': 0.1}\n",
      "-17.044863 (8.208487) with: {'batch_size': 16, 'epochs': 20, 'learning_rate': 1.0}\n",
      "-2.648237 (0.315574) with: {'batch_size': 16, 'epochs': 30, 'learning_rate': 0.01}\n",
      "-2.464963 (0.373914) with: {'batch_size': 16, 'epochs': 30, 'learning_rate': 0.1}\n",
      "-11.993810 (8.106448) with: {'batch_size': 16, 'epochs': 30, 'learning_rate': 1.0}\n",
      "-9.391992 (9.107813) with: {'batch_size': 32, 'epochs': 10, 'learning_rate': 0.01}\n",
      "-3.470821 (0.704790) with: {'batch_size': 32, 'epochs': 10, 'learning_rate': 0.1}\n",
      "-11.551477 (7.602497) with: {'batch_size': 32, 'epochs': 10, 'learning_rate': 1.0}\n",
      "-2.664217 (0.061194) with: {'batch_size': 32, 'epochs': 20, 'learning_rate': 0.01}\n",
      "-4.167861 (0.333062) with: {'batch_size': 32, 'epochs': 20, 'learning_rate': 0.1}\n",
      "-12.156808 (7.978377) with: {'batch_size': 32, 'epochs': 20, 'learning_rate': 1.0}\n",
      "-2.382335 (0.238155) with: {'batch_size': 32, 'epochs': 30, 'learning_rate': 0.01}\n",
      "-2.755216 (0.366529) with: {'batch_size': 32, 'epochs': 30, 'learning_rate': 0.1}\n",
      "-16.915751 (7.040833) with: {'batch_size': 32, 'epochs': 30, 'learning_rate': 1.0}\n",
      "-3.632438 (0.326465) with: {'batch_size': 64, 'epochs': 10, 'learning_rate': 0.01}\n",
      "-3.237544 (0.602349) with: {'batch_size': 64, 'epochs': 10, 'learning_rate': 0.1}\n",
      "-12.029497 (8.085257) with: {'batch_size': 64, 'epochs': 10, 'learning_rate': 1.0}\n",
      "-2.858154 (0.079737) with: {'batch_size': 64, 'epochs': 20, 'learning_rate': 0.01}\n",
      "-2.687853 (0.071061) with: {'batch_size': 64, 'epochs': 20, 'learning_rate': 0.1}\n",
      "-6.576695 (0.825624) with: {'batch_size': 64, 'epochs': 20, 'learning_rate': 1.0}\n",
      "-2.734593 (0.234397) with: {'batch_size': 64, 'epochs': 30, 'learning_rate': 0.01}\n",
      "-3.215749 (0.445692) with: {'batch_size': 64, 'epochs': 30, 'learning_rate': 0.1}\n",
      "-6.511728 (0.776486) with: {'batch_size': 64, 'epochs': 30, 'learning_rate': 1.0}\n"
     ]
    }
   ],
   "source": [
    "# GRID SEARCH PARAMETERS\n",
    "param_grid = {'learning_rate': [0.01, 0.1, 1.0],\n",
    "              'batch_size': [16, 32, 64],\n",
    "              'epochs': [10, 20, 30]}\n",
    "\n",
    "grid = GridSearchCV(estimator=model, param_grid=param_grid, n_jobs=-1, cv=3)\n",
    "grid_result = grid.fit(x_train, y_train)\n",
    "\n",
    "print(\"Best: %f using %s\" % (grid_result.best_score_, grid_result.best_params_))\n",
    "\n",
    "means = grid_result.cv_results_['mean_test_score']\n",
    "stds = grid_result.cv_results_['std_test_score']\n",
    "params = grid_result.cv_results_['params']\n",
    "for mean, stdev, param in zip(means, stds, params):\n",
    "    print(\"%f (%f) with: %r\" % (mean, stdev, param))\n",
    "\n",
    "best_model = grid_result.best_estimator_.model"
   ]
  },
  {
   "cell_type": "code",
   "execution_count": 5,
   "id": "30e7b9e4-62fe-4fbd-9119-ac629e238ce7",
   "metadata": {},
   "outputs": [
    {
     "name": "stdout",
     "output_type": "stream",
     "text": [
      "4/4 [==============================] - 0s 3ms/step - loss: 3.1341\n",
      "Test Loss: 3.1340811252593994\n"
     ]
    }
   ],
   "source": [
    "# EVALUATE BEST MODEL ON TEST DATA\n",
    "test_loss = best_model.evaluate(x_test, y_test)\n",
    "print(\"Test Loss:\", test_loss)"
   ]
  },
  {
   "cell_type": "code",
   "execution_count": 6,
   "id": "12e22a5f-82c2-4e7f-903a-f6f3ab6efa9d",
   "metadata": {},
   "outputs": [
    {
     "name": "stdout",
     "output_type": "stream",
     "text": [
      "Epoch 1/30\n",
      "11/11 [==============================] - 0s 9ms/step - loss: 2.1621 - val_loss: 2.6193\n",
      "Epoch 2/30\n",
      "11/11 [==============================] - 0s 6ms/step - loss: 2.2044 - val_loss: 2.0002\n",
      "Epoch 3/30\n",
      "11/11 [==============================] - 0s 6ms/step - loss: 2.1681 - val_loss: 2.0175\n",
      "Epoch 4/30\n",
      "11/11 [==============================] - 0s 6ms/step - loss: 1.8865 - val_loss: 1.9259\n",
      "Epoch 5/30\n",
      "11/11 [==============================] - 0s 8ms/step - loss: 1.8025 - val_loss: 1.8945\n",
      "Epoch 6/30\n",
      "11/11 [==============================] - 0s 9ms/step - loss: 1.8769 - val_loss: 2.0039\n",
      "Epoch 7/30\n",
      "11/11 [==============================] - 0s 6ms/step - loss: 1.8027 - val_loss: 2.1549\n",
      "Epoch 8/30\n",
      "11/11 [==============================] - 0s 10ms/step - loss: 1.8434 - val_loss: 1.8739\n",
      "Epoch 9/30\n",
      "11/11 [==============================] - 0s 5ms/step - loss: 1.8450 - val_loss: 1.8753\n",
      "Epoch 10/30\n",
      "11/11 [==============================] - 0s 9ms/step - loss: 1.8102 - val_loss: 2.1265\n",
      "Epoch 11/30\n",
      "11/11 [==============================] - 0s 10ms/step - loss: 1.8505 - val_loss: 1.7325\n",
      "Epoch 12/30\n",
      "11/11 [==============================] - 0s 11ms/step - loss: 1.7874 - val_loss: 1.9902\n",
      "Epoch 13/30\n",
      "11/11 [==============================] - 0s 10ms/step - loss: 1.8528 - val_loss: 1.9031\n",
      "Epoch 14/30\n",
      "11/11 [==============================] - 0s 14ms/step - loss: 1.7448 - val_loss: 1.9812\n",
      "Epoch 15/30\n",
      "11/11 [==============================] - 0s 9ms/step - loss: 1.7103 - val_loss: 1.8855\n",
      "Epoch 16/30\n",
      "11/11 [==============================] - 0s 8ms/step - loss: 1.7317 - val_loss: 1.8219\n",
      "Epoch 17/30\n",
      "11/11 [==============================] - 0s 8ms/step - loss: 1.8652 - val_loss: 2.4896\n",
      "Epoch 18/30\n",
      "11/11 [==============================] - 0s 5ms/step - loss: 1.8668 - val_loss: 1.9552\n",
      "Epoch 19/30\n",
      "11/11 [==============================] - 0s 5ms/step - loss: 1.7073 - val_loss: 1.8914\n",
      "Epoch 20/30\n",
      "11/11 [==============================] - 0s 5ms/step - loss: 1.7164 - val_loss: 1.9417\n",
      "Epoch 21/30\n",
      "11/11 [==============================] - 0s 6ms/step - loss: 1.6940 - val_loss: 1.8965\n",
      "Epoch 22/30\n",
      "11/11 [==============================] - 0s 5ms/step - loss: 1.6877 - val_loss: 1.8941\n",
      "Epoch 23/30\n",
      "11/11 [==============================] - 0s 5ms/step - loss: 1.6992 - val_loss: 2.1763\n",
      "Epoch 24/30\n",
      "11/11 [==============================] - 0s 6ms/step - loss: 1.7521 - val_loss: 1.9672\n",
      "Epoch 25/30\n",
      "11/11 [==============================] - 0s 4ms/step - loss: 1.7856 - val_loss: 1.8675\n",
      "Epoch 26/30\n",
      "11/11 [==============================] - 0s 5ms/step - loss: 1.8176 - val_loss: 2.0665\n",
      "Epoch 27/30\n",
      "11/11 [==============================] - 0s 5ms/step - loss: 1.7357 - val_loss: 1.9361\n",
      "Epoch 28/30\n",
      "11/11 [==============================] - 0s 5ms/step - loss: 1.7467 - val_loss: 2.1345\n",
      "Epoch 29/30\n",
      "11/11 [==============================] - 0s 5ms/step - loss: 1.7566 - val_loss: 1.9678\n",
      "Epoch 30/30\n",
      "11/11 [==============================] - 0s 6ms/step - loss: 1.6955 - val_loss: 1.9282\n"
     ]
    },
    {
     "data": {
      "image/png": "[encoded data removed]",
      "text/plain": [
       "<Figure size 640x480 with 1 Axes>"
      ]
     },
     "metadata": {},
     "output_type": "display_data"
    }
   ],
   "source": [
    "# TRAINING AND VALIDATION PLOT\n",
    "import matplotlib.pyplot as plt\n",
    "\n",
    "history = best_model.fit(x_train, y_train, epochs=grid_result.best_params_['epochs'], batch_size=grid_result.best_params_['batch_size'], validation_split=0.15)\n",
    "\n",
    "plt.plot(history.history['loss'], label='Training Loss')\n",
    "plt.plot(history.history['val_loss'], label='Validation Loss')\n",
    "plt.title('Model Loss')\n",
    "plt.xlabel('Epoch')\n",
    "plt.ylabel('Loss')\n",
    "plt.legend()\n",
    "plt.show()"
   ]
  },
  {
   "cell_type": "code",
   "execution_count": null,
   "id": "0c0a7b79-0aa2-48cf-b3c6-fad1012ed826",
   "metadata": {},
   "outputs": [],
   "source": []
  }
 ],
 "metadata": {
  "kernelspec": {
   "display_name": "Python 3 (ipykernel)",
   "language": "python",
   "name": "python3"
  },
  "language_info": {
   "codemirror_mode": {
    "name": "ipython",
    "version": 3
   },
   "file_extension": ".py",
   "mimetype": "text/x-python",
   "name": "python",
   "nbconvert_exporter": "python",
   "pygments_lexer": "ipython3",
   "version": "3.10.8"
  }
 },
 "nbformat": 4,
 "nbformat_minor": 5
}
