{
 "cells": [
  {
   "cell_type": "code",
   "execution_count": 1,
   "id": "e83cf1bc-761d-41d7-aa75-c8ce107dc4d1",
   "metadata": {},
   "outputs": [],
   "source": [
    "# SPECIFICATIONS\n",
    "import numpy as np\n",
    "from keras.models import Sequential\n",
    "from keras.layers import Dense, Activation\n",
    "from keras.datasets import boston_housing\n",
    "from keras.optimizers import Adam\n",
    "from sklearn.preprocessing import StandardScaler"
   ]
  },
  {
   "cell_type": "code",
   "execution_count": 2,
   "id": "68aab1cc-c5ec-404d-a8f1-f4bf3af6cdf7",
   "metadata": {},
   "outputs": [],
   "source": [
    "# LOAD DATASET\n",
    "(x_train, y_train), (x_test, y_test) = boston_housing.load_data()\n",
    "\n",
    "scalar = StandardScaler()\n",
    "x_train = scalar.fit_transform(x_train)\n",
    "x_test = scalar.transform(x_test)"
   ]
  },
  {
   "cell_type": "code",
   "execution_count": 3,
   "id": "491aa3a8-c0e6-41ef-9461-77ab939ecbb9",
   "metadata": {},
   "outputs": [
    {
     "name": "stdout",
     "output_type": "stream",
     "text": [
      "Model: \"sequential\"\n",
      "_________________________________________________________________\n",
      " Layer (type)                Output Shape              Param #   \n",
      "=================================================================\n",
      " dense (Dense)               (None, 15)                210       \n",
      "                                                                 \n",
      " dense_1 (Dense)             (None, 15)                240       \n",
      "                                                                 \n",
      " dense_2 (Dense)             (None, 15)                240       \n",
      "                                                                 \n",
      " dense_3 (Dense)             (None, 15)                240       \n",
      "                                                                 \n",
      " dense_4 (Dense)             (None, 15)                240       \n",
      "                                                                 \n",
      " dense_5 (Dense)             (None, 15)                240       \n",
      "                                                                 \n",
      " dense_6 (Dense)             (None, 15)                240       \n",
      "                                                                 \n",
      " dense_7 (Dense)             (None, 15)                240       \n",
      "                                                                 \n",
      " dense_8 (Dense)             (None, 15)                240       \n",
      "                                                                 \n",
      " dense_9 (Dense)             (None, 1)                 16        \n",
      "                                                                 \n",
      "=================================================================\n",
      "Total params: 2,146\n",
      "Trainable params: 2,146\n",
      "Non-trainable params: 0\n",
      "_________________________________________________________________\n",
      "Epoch 1/20\n",
      "35/35 [==============================] - 1s 15ms/step - loss: 13.6155 - val_loss: 5.7578\n",
      "Epoch 2/20\n",
      "35/35 [==============================] - 0s 4ms/step - loss: 3.9734 - val_loss: 3.6197\n",
      "Epoch 3/20\n",
      "35/35 [==============================] - 0s 3ms/step - loss: 2.8681 - val_loss: 3.3709\n",
      "Epoch 4/20\n",
      "35/35 [==============================] - 0s 4ms/step - loss: 2.8537 - val_loss: 3.6202\n",
      "Epoch 5/20\n",
      "35/35 [==============================] - 0s 4ms/step - loss: 2.6917 - val_loss: 3.6450\n",
      "Epoch 6/20\n",
      "35/35 [==============================] - 0s 4ms/step - loss: 3.0804 - val_loss: 3.5057\n",
      "Epoch 7/20\n",
      "35/35 [==============================] - 0s 4ms/step - loss: 2.9138 - val_loss: 3.4443\n",
      "Epoch 8/20\n",
      "35/35 [==============================] - 0s 4ms/step - loss: 3.1301 - val_loss: 2.7364\n",
      "Epoch 9/20\n",
      "35/35 [==============================] - 0s 4ms/step - loss: 2.7348 - val_loss: 3.6271\n",
      "Epoch 10/20\n",
      "35/35 [==============================] - 0s 3ms/step - loss: 2.3590 - val_loss: 2.7181\n",
      "Epoch 11/20\n",
      "35/35 [==============================] - 0s 4ms/step - loss: 2.3674 - val_loss: 2.9968\n",
      "Epoch 12/20\n",
      "35/35 [==============================] - 0s 3ms/step - loss: 2.4395 - val_loss: 2.8354\n",
      "Epoch 13/20\n",
      "35/35 [==============================] - 0s 4ms/step - loss: 2.1266 - val_loss: 2.4127\n",
      "Epoch 14/20\n",
      "35/35 [==============================] - 0s 5ms/step - loss: 2.4932 - val_loss: 2.5974\n",
      "Epoch 15/20\n",
      "35/35 [==============================] - 0s 3ms/step - loss: 2.3625 - val_loss: 3.3039\n",
      "Epoch 16/20\n",
      "35/35 [==============================] - 0s 3ms/step - loss: 2.2970 - val_loss: 2.4376\n",
      "Epoch 17/20\n",
      "35/35 [==============================] - 0s 4ms/step - loss: 2.2794 - val_loss: 2.3779\n",
      "Epoch 18/20\n",
      "35/35 [==============================] - 0s 3ms/step - loss: 2.1362 - val_loss: 2.5430\n",
      "Epoch 19/20\n",
      "35/35 [==============================] - 0s 3ms/step - loss: 2.2181 - val_loss: 3.3625\n",
      "Epoch 20/20\n",
      "35/35 [==============================] - 0s 3ms/step - loss: 2.2361 - val_loss: 2.5452\n"
     ]
    }
   ],
   "source": [
    "# BUILD AND TRAIN MODEL\n",
    "model = Sequential()\n",
    "model.add(Dense(15, activation='relu', input_shape=(x_train.shape[1],)))\n",
    "model.add(Dense(15, activation='relu'))\n",
    "model.add(Dense(15, activation='relu'))\n",
    "model.add(Dense(15, activation='relu'))\n",
    "model.add(Dense(15, activation='relu'))\n",
    "model.add(Dense(15, activation='relu'))\n",
    "model.add(Dense(15, activation='relu'))\n",
    "model.add(Dense(15, activation='relu'))\n",
    "model.add(Dense(15, activation='relu'))\n",
    "model.add(Dense(1, activation='relu'))\n",
    "\n",
    "model.summary()\n",
    "model.compile(optimizer=Adam(learning_rate=0.01), loss='mean_absolute_error')\n",
    "history = model.fit(x_train, y_train, epochs=20, batch_size=10, validation_split=0.15)"
   ]
  },
  {
   "cell_type": "code",
   "execution_count": 4,
   "id": "cdcf440b-0b04-4255-b010-38d90a917537",
   "metadata": {},
   "outputs": [
    {
     "name": "stdout",
     "output_type": "stream",
     "text": [
      "4/4 [==============================] - 0s 2ms/step - loss: 2.7292\n",
      "Test Loss: 2.72922420501709\n",
      "4/4 [==============================] - 0s 3ms/step\n"
     ]
    }
   ],
   "source": [
    "# PREDICT\n",
    "test_loss = model.evaluate(x_test, y_test)\n",
    "print(\"Test Loss:\", test_loss)\n",
    "\n",
    "# Generate the actual predictions for our test set\n",
    "predictions = model.predict(x_test)"
   ]
  },
  {
   "cell_type": "code",
   "execution_count": 5,
   "id": "0a35a71f-859f-4b62-95fd-d5e9af730482",
   "metadata": {},
   "outputs": [
    {
     "data": {
      "image/png": "[encoded data removed]",
      "text/plain": [
       "<Figure size 640x480 with 1 Axes>"
      ]
     },
     "metadata": {},
     "output_type": "display_data"
    }
   ],
   "source": [
    "# TRAINING AND VALIDATION PLOT\n",
    "import matplotlib.pyplot as plt\n",
    "\n",
    "# Plot training & validation loss values\n",
    "plt.plot(history.history['loss'])\n",
    "plt.plot(history.history['val_loss'])\n",
    "plt.title('Model loss')\n",
    "plt.ylabel('Loss')\n",
    "plt.xlabel('Epoch')\n",
    "plt.legend(['Train', 'Validation'], loc='upper left')\n",
    "plt.show()"
   ]
  },
  {
   "cell_type": "code",
   "execution_count": null,
   "id": "07bfc670-94c8-41ca-b5fd-65af1fd9c0e3",
   "metadata": {},
   "outputs": [],
   "source": []
  }
 ],
 "metadata": {
  "kernelspec": {
   "display_name": "Python 3 (ipykernel)",
   "language": "python",
   "name": "python3"
  },
  "language_info": {
   "codemirror_mode": {
    "name": "ipython",
    "version": 3
   },
   "file_extension": ".py",
   "mimetype": "text/x-python",
   "name": "python",
   "nbconvert_exporter": "python",
   "pygments_lexer": "ipython3",
   "version": "3.10.8"
  }
 },
 "nbformat": 4,
 "nbformat_minor": 5
}
