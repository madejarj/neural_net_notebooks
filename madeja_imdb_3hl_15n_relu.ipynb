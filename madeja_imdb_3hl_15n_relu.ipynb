{
 "cells": [
  {
   "cell_type": "code",
   "execution_count": 1,
   "id": "628240f8-e9fc-4ea9-89bb-dc60698c22f9",
   "metadata": {},
   "outputs": [],
   "source": [
    "# SPECIFICATIONS\n",
    "import numpy as np\n",
    "from keras.models import Sequential\n",
    "from keras.layers import Dense, Flatten\n",
    "from keras.datasets import imdb\n",
    "from keras.optimizers import Adam\n",
    "from tensorflow.keras.preprocessing.sequence import pad_sequences\n",
    "from keras.utils import to_categorical"
   ]
  },
  {
   "cell_type": "code",
   "execution_count": 2,
   "id": "dbec68cf-f4e1-4025-a7cb-f6f22baec42d",
   "metadata": {},
   "outputs": [],
   "source": [
    "# LOAD DATASET\n",
    "(x_train, y_train), (x_test, y_test) = imdb.load_data(\n",
    "    path=\"imdb.npz\",\n",
    "    num_words=None,\n",
    "    skip_top=0,\n",
    "    maxlen=None,\n",
    "    seed=113,\n",
    "    start_char=1,\n",
    "    oov_char=2,\n",
    "    index_from=3\n",
    ")\n",
    "\n",
    "maxlen = 100\n",
    "x_train = pad_sequences(x_train, maxlen=maxlen)\n",
    "x_test = pad_sequences(x_test, maxlen=maxlen)\n",
    "\n",
    "y_train = to_categorical(y_train)\n",
    "y_test = to_categorical(y_test)"
   ]
  },
  {
   "cell_type": "code",
   "execution_count": 3,
   "id": "5616f85b-8cbd-49ee-9087-e9256c18a037",
   "metadata": {},
   "outputs": [
    {
     "name": "stdout",
     "output_type": "stream",
     "text": [
      "Model: \"sequential\"\n",
      "_________________________________________________________________\n",
      " Layer (type)                Output Shape              Param #   \n",
      "=================================================================\n",
      " dense (Dense)               (None, 15)                1515      \n",
      "                                                                 \n",
      " dense_1 (Dense)             (None, 15)                240       \n",
      "                                                                 \n",
      " dense_2 (Dense)             (None, 15)                240       \n",
      "                                                                 \n",
      " dense_3 (Dense)             (None, 2)                 32        \n",
      "                                                                 \n",
      "=================================================================\n",
      "Total params: 2,027\n",
      "Trainable params: 2,027\n",
      "Non-trainable params: 0\n",
      "_________________________________________________________________\n",
      "Epoch 1/20\n",
      "2125/2125 [==============================] - 4s 2ms/step - loss: 20.2240 - accuracy: 0.4963 - val_loss: 0.8063 - val_accuracy: 0.5037\n",
      "Epoch 2/20\n",
      "2125/2125 [==============================] - 3s 1ms/step - loss: 0.7216 - accuracy: 0.5018 - val_loss: 0.6929 - val_accuracy: 0.4957\n",
      "Epoch 3/20\n",
      "2125/2125 [==============================] - 3s 1ms/step - loss: 0.6946 - accuracy: 0.4995 - val_loss: 0.6953 - val_accuracy: 0.4949\n",
      "Epoch 4/20\n",
      "2125/2125 [==============================] - 3s 1ms/step - loss: 0.6961 - accuracy: 0.4992 - val_loss: 0.6932 - val_accuracy: 0.5051\n",
      "Epoch 5/20\n",
      "2125/2125 [==============================] - 3s 1ms/step - loss: 0.6939 - accuracy: 0.4987 - val_loss: 0.6934 - val_accuracy: 0.4949\n",
      "Epoch 6/20\n",
      "2125/2125 [==============================] - 3s 1ms/step - loss: 0.6938 - accuracy: 0.5004 - val_loss: 0.6969 - val_accuracy: 0.4949\n",
      "Epoch 7/20\n",
      "2125/2125 [==============================] - 3s 1ms/step - loss: 0.6942 - accuracy: 0.4961 - val_loss: 0.6931 - val_accuracy: 0.5051\n",
      "Epoch 8/20\n",
      "2125/2125 [==============================] - 3s 1ms/step - loss: 0.6939 - accuracy: 0.4953 - val_loss: 0.6934 - val_accuracy: 0.5051\n",
      "Epoch 9/20\n",
      "2125/2125 [==============================] - 3s 1ms/step - loss: 0.6939 - accuracy: 0.5027 - val_loss: 0.6949 - val_accuracy: 0.5051\n",
      "Epoch 10/20\n",
      "2125/2125 [==============================] - 3s 1ms/step - loss: 0.6939 - accuracy: 0.4976 - val_loss: 0.6938 - val_accuracy: 0.4949\n",
      "Epoch 11/20\n",
      "2125/2125 [==============================] - 3s 1ms/step - loss: 0.6940 - accuracy: 0.4963 - val_loss: 0.6933 - val_accuracy: 0.4949\n",
      "Epoch 12/20\n",
      "2125/2125 [==============================] - 3s 1ms/step - loss: 0.6942 - accuracy: 0.4948 - val_loss: 0.6931 - val_accuracy: 0.5051\n",
      "Epoch 13/20\n",
      "2125/2125 [==============================] - 3s 1ms/step - loss: 0.6938 - accuracy: 0.4994 - val_loss: 0.6933 - val_accuracy: 0.5051\n",
      "Epoch 14/20\n",
      "2125/2125 [==============================] - 3s 1ms/step - loss: 0.6940 - accuracy: 0.4976 - val_loss: 0.6941 - val_accuracy: 0.5051\n",
      "Epoch 15/20\n",
      "2125/2125 [==============================] - 4s 2ms/step - loss: 0.6966 - accuracy: 0.4983 - val_loss: 0.6933 - val_accuracy: 0.4949\n",
      "Epoch 16/20\n",
      "2125/2125 [==============================] - 3s 2ms/step - loss: 0.6938 - accuracy: 0.4989 - val_loss: 0.6945 - val_accuracy: 0.4949\n",
      "Epoch 17/20\n",
      "2125/2125 [==============================] - 3s 2ms/step - loss: 0.6938 - accuracy: 0.4999 - val_loss: 0.6931 - val_accuracy: 0.5051\n",
      "Epoch 18/20\n",
      "2125/2125 [==============================] - 4s 2ms/step - loss: 0.6939 - accuracy: 0.4981 - val_loss: 0.6935 - val_accuracy: 0.4949\n",
      "Epoch 19/20\n",
      "2125/2125 [==============================] - 4s 2ms/step - loss: 0.6940 - accuracy: 0.4974 - val_loss: 0.6935 - val_accuracy: 0.5051\n",
      "Epoch 20/20\n",
      "2125/2125 [==============================] - 4s 2ms/step - loss: 0.6939 - accuracy: 0.5028 - val_loss: 0.6932 - val_accuracy: 0.5051\n"
     ]
    }
   ],
   "source": [
    "# BUILD AND TRAIN MODEL\n",
    "model = Sequential()\n",
    "model.add(Dense(15, activation='relu', input_shape=(maxlen,)))\n",
    "model.add(Dense(15, activation='relu'))\n",
    "model.add(Dense(15, activation='relu'))\n",
    "model.add(Dense(2, activation='softmax'))\n",
    "\n",
    "model.summary()\n",
    "model.compile(optimizer=Adam(learning_rate=0.01), loss='categorical_crossentropy', metrics=['accuracy'])\n",
    "history = model.fit(x_train, y_train, epochs=20, batch_size=10, validation_split=0.15)"
   ]
  },
  {
   "cell_type": "code",
   "execution_count": 4,
   "id": "c7cce2c5-0ce2-489d-9daf-66405bcf1dae",
   "metadata": {},
   "outputs": [
    {
     "name": "stdout",
     "output_type": "stream",
     "text": [
      "782/782 [==============================] - 1s 1ms/step - loss: 0.6935 - accuracy: 0.5000\n",
      "Test Loss: 0.6935019493103027\n",
      "Test Accuracy: 0.5\n",
      "782/782 [==============================] - 1s 1ms/step\n"
     ]
    }
   ],
   "source": [
    "# PREDICT\n",
    "test_loss, test_accuracy = model.evaluate(x_test, y_test)\n",
    "print(\"Test Loss:\", test_loss)\n",
    "print(\"Test Accuracy:\", test_accuracy)\n",
    "\n",
    "predictions = model.predict(x_test)\n",
    "predicted_classes = np.argmax(predictions, axis=1)"
   ]
  },
  {
   "cell_type": "code",
   "execution_count": null,
   "id": "49c10327-4276-4496-b089-4d1b599c3cc9",
   "metadata": {},
   "outputs": [],
   "source": []
  }
 ],
 "metadata": {
  "kernelspec": {
   "display_name": "Python 3 (ipykernel)",
   "language": "python",
   "name": "python3"
  },
  "language_info": {
   "codemirror_mode": {
    "name": "ipython",
    "version": 3
   },
   "file_extension": ".py",
   "mimetype": "text/x-python",
   "name": "python",
   "nbconvert_exporter": "python",
   "pygments_lexer": "ipython3",
   "version": "3.10.8"
  }
 },
 "nbformat": 4,
 "nbformat_minor": 5
}
