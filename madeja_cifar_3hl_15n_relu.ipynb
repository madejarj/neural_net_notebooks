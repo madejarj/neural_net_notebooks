{
 "cells": [
  {
   "cell_type": "code",
   "execution_count": 1,
   "id": "1549d0f0-f82e-4648-a6bf-7c1251bfb127",
   "metadata": {},
   "outputs": [],
   "source": [
    "# SPECIFICATIONS\n",
    "import numpy as np\n",
    "from keras.models import Sequential\n",
    "from keras.layers import Dense, Flatten\n",
    "from keras.datasets import cifar10\n",
    "from keras.optimizers import Adam\n",
    "from keras.utils import to_categorical"
   ]
  },
  {
   "cell_type": "code",
   "execution_count": 2,
   "id": "d35ab05c-3dfd-44ca-b28c-cb75eefec0de",
   "metadata": {},
   "outputs": [],
   "source": [
    "# LOAD DATASET\n",
    "(x_train, y_train), (x_test, y_test) = cifar10.load_data()\n",
    "\n",
    "x_train = x_train.reshape(-1, 32 * 32 * 3) / 255.0\n",
    "x_test = x_test.reshape(-1, 32 * 32 * 3) / 255.0\n",
    "y_train = to_categorical(y_train)\n",
    "y_test = to_categorical(y_test)"
   ]
  },
  {
   "cell_type": "code",
   "execution_count": 3,
   "id": "9051e1b5-8463-4fa4-8c22-e50238559142",
   "metadata": {},
   "outputs": [
    {
     "name": "stdout",
     "output_type": "stream",
     "text": [
      "Model: \"sequential\"\n",
      "_________________________________________________________________\n",
      " Layer (type)                Output Shape              Param #   \n",
      "=================================================================\n",
      " dense (Dense)               (None, 15)                46095     \n",
      "                                                                 \n",
      " dense_1 (Dense)             (None, 15)                240       \n",
      "                                                                 \n",
      " dense_2 (Dense)             (None, 15)                240       \n",
      "                                                                 \n",
      " dense_3 (Dense)             (None, 10)                160       \n",
      "                                                                 \n",
      "=================================================================\n",
      "Total params: 46,735\n",
      "Trainable params: 46,735\n",
      "Non-trainable params: 0\n",
      "_________________________________________________________________\n",
      "Epoch 1/20\n",
      "4250/4250 [==============================] - 7s 1ms/step - loss: 2.3119 - accuracy: 0.0998 - val_loss: 2.3047 - val_accuracy: 0.0984\n",
      "Epoch 2/20\n",
      "4250/4250 [==============================] - 7s 2ms/step - loss: 2.3050 - accuracy: 0.1016 - val_loss: 2.3037 - val_accuracy: 0.0984\n",
      "Epoch 3/20\n",
      "4250/4250 [==============================] - 6s 1ms/step - loss: 2.3051 - accuracy: 0.0994 - val_loss: 2.3062 - val_accuracy: 0.0984\n",
      "Epoch 4/20\n",
      "4250/4250 [==============================] - 6s 1ms/step - loss: 2.3051 - accuracy: 0.0989 - val_loss: 2.3046 - val_accuracy: 0.1065\n",
      "Epoch 5/20\n",
      "4250/4250 [==============================] - 6s 2ms/step - loss: 2.3048 - accuracy: 0.1011 - val_loss: 2.3066 - val_accuracy: 0.0984\n",
      "Epoch 6/20\n",
      "4250/4250 [==============================] - 6s 2ms/step - loss: 2.3054 - accuracy: 0.0985 - val_loss: 2.3038 - val_accuracy: 0.1000\n",
      "Epoch 7/20\n",
      "4250/4250 [==============================] - 6s 1ms/step - loss: 2.3046 - accuracy: 0.1024 - val_loss: 2.3101 - val_accuracy: 0.0975\n",
      "Epoch 8/20\n",
      "4250/4250 [==============================] - 6s 1ms/step - loss: 2.3052 - accuracy: 0.1016 - val_loss: 2.3036 - val_accuracy: 0.0999\n",
      "Epoch 9/20\n",
      "4250/4250 [==============================] - 7s 2ms/step - loss: 2.3049 - accuracy: 0.0995 - val_loss: 2.3056 - val_accuracy: 0.0975\n",
      "Epoch 10/20\n",
      "4250/4250 [==============================] - 7s 2ms/step - loss: 2.3052 - accuracy: 0.0990 - val_loss: 2.3043 - val_accuracy: 0.1015\n",
      "Epoch 11/20\n",
      "4250/4250 [==============================] - 7s 2ms/step - loss: 2.3050 - accuracy: 0.0992 - val_loss: 2.3037 - val_accuracy: 0.0984\n",
      "Epoch 12/20\n",
      "4250/4250 [==============================] - 8s 2ms/step - loss: 2.3049 - accuracy: 0.0988 - val_loss: 2.3056 - val_accuracy: 0.0975\n",
      "Epoch 13/20\n",
      "4250/4250 [==============================] - 7s 2ms/step - loss: 2.3052 - accuracy: 0.0977 - val_loss: 2.3055 - val_accuracy: 0.1029\n",
      "Epoch 14/20\n",
      "4250/4250 [==============================] - 8s 2ms/step - loss: 2.3052 - accuracy: 0.0988 - val_loss: 2.3034 - val_accuracy: 0.1029\n",
      "Epoch 15/20\n",
      "4250/4250 [==============================] - 7s 2ms/step - loss: 2.3051 - accuracy: 0.1005 - val_loss: 2.3052 - val_accuracy: 0.1008\n",
      "Epoch 16/20\n",
      "4250/4250 [==============================] - 7s 2ms/step - loss: 2.3053 - accuracy: 0.0992 - val_loss: 2.3044 - val_accuracy: 0.1008\n",
      "Epoch 17/20\n",
      "4250/4250 [==============================] - 7s 2ms/step - loss: 2.3051 - accuracy: 0.0996 - val_loss: 2.3033 - val_accuracy: 0.1008\n",
      "Epoch 18/20\n",
      "4250/4250 [==============================] - 7s 2ms/step - loss: 2.3051 - accuracy: 0.0980 - val_loss: 2.3051 - val_accuracy: 0.0984\n",
      "Epoch 19/20\n",
      "4250/4250 [==============================] - 9s 2ms/step - loss: 2.3049 - accuracy: 0.0995 - val_loss: 2.3070 - val_accuracy: 0.1008\n",
      "Epoch 20/20\n",
      "4250/4250 [==============================] - 10s 2ms/step - loss: 2.3052 - accuracy: 0.0986 - val_loss: 2.3030 - val_accuracy: 0.0999\n"
     ]
    }
   ],
   "source": [
    "# BUILD AND TRAIN MODEL\n",
    "model = Sequential()\n",
    "model.add(Dense(15, activation='relu', input_shape=(32 * 32 * 3,)))\n",
    "model.add(Dense(15, activation='relu'))\n",
    "model.add(Dense(15, activation='relu'))\n",
    "model.add(Dense(10, activation='softmax'))\n",
    "\n",
    "model.summary()\n",
    "model.compile(optimizer=Adam(learning_rate=0.01), loss='categorical_crossentropy', metrics=['accuracy'])\n",
    "history = model.fit(x_train, y_train, epochs=20, batch_size=10, validation_split=0.15)"
   ]
  },
  {
   "cell_type": "code",
   "execution_count": 4,
   "id": "bff1f1e7-9b5c-4564-9369-8fc5d8efa05f",
   "metadata": {},
   "outputs": [
    {
     "name": "stdout",
     "output_type": "stream",
     "text": [
      "313/313 [==============================] - 1s 2ms/step - loss: 2.3035 - accuracy: 0.1000\n",
      "Test Loss: 2.303450107574463\n",
      "Test Accuracy: 0.10000000149011612\n",
      "313/313 [==============================] - 1s 1ms/step\n"
     ]
    }
   ],
   "source": [
    "# PREDICT\n",
    "test_loss, test_accuracy = model.evaluate(x_test, y_test)\n",
    "print(\"Test Loss:\", test_loss)\n",
    "print(\"Test Accuracy:\", test_accuracy)\n",
    "\n",
    "predictions = model.predict(x_test)\n",
    "predicted_classes = np.argmax(predictions, axis=1)"
   ]
  },
  {
   "cell_type": "code",
   "execution_count": null,
   "id": "bc84fcd0-4194-45bc-a1c4-d6d2bb6ae40a",
   "metadata": {},
   "outputs": [],
   "source": []
  }
 ],
 "metadata": {
  "kernelspec": {
   "display_name": "Python 3 (ipykernel)",
   "language": "python",
   "name": "python3"
  },
  "language_info": {
   "codemirror_mode": {
    "name": "ipython",
    "version": 3
   },
   "file_extension": ".py",
   "mimetype": "text/x-python",
   "name": "python",
   "nbconvert_exporter": "python",
   "pygments_lexer": "ipython3",
   "version": "3.10.8"
  }
 },
 "nbformat": 4,
 "nbformat_minor": 5
}
