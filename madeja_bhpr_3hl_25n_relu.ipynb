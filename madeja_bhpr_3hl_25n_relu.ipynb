{
 "cells": [
  {
   "cell_type": "code",
   "execution_count": 1,
   "id": "3d27dcbd-d35c-4cec-aa11-194a95de4ee6",
   "metadata": {},
   "outputs": [],
   "source": [
    "# SPECIFICATIONS\n",
    "import numpy as np\n",
    "from keras.models import Sequential\n",
    "from keras.layers import Dense, Activation\n",
    "from keras.datasets import boston_housing\n",
    "from keras.optimizers import Adam\n",
    "from sklearn.preprocessing import StandardScaler"
   ]
  },
  {
   "cell_type": "code",
   "execution_count": 2,
   "id": "0fa3795b-6d06-49d4-8e31-83b2f82bb7ec",
   "metadata": {},
   "outputs": [],
   "source": [
    "# LOAD DATASET\n",
    "(x_train, y_train), (x_test, y_test) = boston_housing.load_data()\n",
    "\n",
    "scalar = StandardScaler()\n",
    "x_train = scalar.fit_transform(x_train)\n",
    "x_test = scalar.transform(x_test)"
   ]
  },
  {
   "cell_type": "code",
   "execution_count": 3,
   "id": "ade4f7bb-fc07-41a0-84f0-d0bc3e2bce71",
   "metadata": {},
   "outputs": [
    {
     "name": "stdout",
     "output_type": "stream",
     "text": [
      "Model: \"sequential\"\n",
      "_________________________________________________________________\n",
      " Layer (type)                Output Shape              Param #   \n",
      "=================================================================\n",
      " dense (Dense)               (None, 25)                350       \n",
      "                                                                 \n",
      " dense_1 (Dense)             (None, 25)                650       \n",
      "                                                                 \n",
      " dense_2 (Dense)             (None, 25)                650       \n",
      "                                                                 \n",
      " dense_3 (Dense)             (None, 1)                 26        \n",
      "                                                                 \n",
      "=================================================================\n",
      "Total params: 1,676\n",
      "Trainable params: 1,676\n",
      "Non-trainable params: 0\n",
      "_________________________________________________________________\n",
      "Epoch 1/20\n",
      "35/35 [==============================] - 1s 14ms/step - loss: 11.7307 - val_loss: 4.9094\n",
      "Epoch 2/20\n",
      "35/35 [==============================] - 0s 8ms/step - loss: 3.6619 - val_loss: 3.1474\n",
      "Epoch 3/20\n",
      "35/35 [==============================] - 0s 7ms/step - loss: 3.2593 - val_loss: 4.1626\n",
      "Epoch 4/20\n",
      "35/35 [==============================] - 0s 7ms/step - loss: 2.8436 - val_loss: 3.0733\n",
      "Epoch 5/20\n",
      "35/35 [==============================] - 0s 7ms/step - loss: 3.0336 - val_loss: 2.7383\n",
      "Epoch 6/20\n",
      "35/35 [==============================] - 0s 7ms/step - loss: 2.5479 - val_loss: 2.4607\n",
      "Epoch 7/20\n",
      "35/35 [==============================] - 0s 7ms/step - loss: 2.3791 - val_loss: 2.4138\n",
      "Epoch 8/20\n",
      "35/35 [==============================] - 0s 7ms/step - loss: 2.2845 - val_loss: 2.8060\n",
      "Epoch 9/20\n",
      "35/35 [==============================] - 0s 8ms/step - loss: 2.2788 - val_loss: 2.5870\n",
      "Epoch 10/20\n",
      "35/35 [==============================] - 0s 8ms/step - loss: 2.5079 - val_loss: 2.5628\n",
      "Epoch 11/20\n",
      "35/35 [==============================] - 0s 7ms/step - loss: 2.3187 - val_loss: 3.0353\n",
      "Epoch 12/20\n",
      "35/35 [==============================] - 0s 7ms/step - loss: 2.2662 - val_loss: 2.4485\n",
      "Epoch 13/20\n",
      "35/35 [==============================] - 0s 7ms/step - loss: 2.3615 - val_loss: 2.8160\n",
      "Epoch 14/20\n",
      "35/35 [==============================] - 0s 7ms/step - loss: 2.3166 - val_loss: 2.5029\n",
      "Epoch 15/20\n",
      "35/35 [==============================] - 0s 11ms/step - loss: 2.1710 - val_loss: 2.2616\n",
      "Epoch 16/20\n",
      "35/35 [==============================] - 0s 7ms/step - loss: 2.1585 - val_loss: 2.5428\n",
      "Epoch 17/20\n",
      "35/35 [==============================] - 0s 7ms/step - loss: 2.3342 - val_loss: 2.4404\n",
      "Epoch 18/20\n",
      "35/35 [==============================] - 0s 7ms/step - loss: 2.2152 - val_loss: 2.6464\n",
      "Epoch 19/20\n",
      "35/35 [==============================] - 0s 7ms/step - loss: 2.3132 - val_loss: 2.1735\n",
      "Epoch 20/20\n",
      "35/35 [==============================] - 0s 7ms/step - loss: 2.2551 - val_loss: 2.4466\n"
     ]
    }
   ],
   "source": [
    "# BUILD AND TRAIN MODEL\n",
    "model = Sequential()\n",
    "model.add(Dense(25, activation='relu', input_shape=(x_train.shape[1],)))\n",
    "model.add(Dense(25, activation='relu'))\n",
    "model.add(Dense(25, activation='relu'))\n",
    "model.add(Dense(1, activation='relu'))\n",
    "\n",
    "model.summary()\n",
    "model.compile(optimizer=Adam(learning_rate=0.01), loss='mean_absolute_error')\n",
    "history = model.fit(x_train, y_train, epochs=20, batch_size=10, validation_split=0.15)"
   ]
  },
  {
   "cell_type": "code",
   "execution_count": 4,
   "id": "935169c0-70c4-4c2b-aeda-3805d6cb8f85",
   "metadata": {},
   "outputs": [
    {
     "name": "stdout",
     "output_type": "stream",
     "text": [
      "4/4 [==============================] - 0s 5ms/step - loss: 3.0933\n",
      "Test Loss: 3.093316078186035\n",
      "4/4 [==============================] - 1s 6ms/step\n"
     ]
    }
   ],
   "source": [
    "# PREDICT\n",
    "test_loss = model.evaluate(x_test, y_test)\n",
    "print(\"Test Loss:\", test_loss)\n",
    "\n",
    "# Generate the actual predictions for our test set\n",
    "predictions = model.predict(x_test)"
   ]
  },
  {
   "cell_type": "code",
   "execution_count": 5,
   "id": "c0bca5e6-273c-4177-9af5-83e97f0317ae",
   "metadata": {},
   "outputs": [
    {
     "data": {
      "image/png": "[encoded data removed]",
      "text/plain": [
       "<Figure size 640x480 with 1 Axes>"
      ]
     },
     "metadata": {},
     "output_type": "display_data"
    }
   ],
   "source": [
    "# TRAINING AND VALIDATION PLOT\n",
    "import matplotlib.pyplot as plt\n",
    "\n",
    "# Plot training & validation loss values\n",
    "plt.plot(history.history['loss'])\n",
    "plt.plot(history.history['val_loss'])\n",
    "plt.title('Model loss')\n",
    "plt.ylabel('Loss')\n",
    "plt.xlabel('Epoch')\n",
    "plt.legend(['Train', 'Validation'], loc='upper left')\n",
    "plt.show()"
   ]
  },
  {
   "cell_type": "code",
   "execution_count": null,
   "id": "c1e282bd-bd42-44c0-bafc-c8fac5d1b004",
   "metadata": {},
   "outputs": [],
   "source": []
  }
 ],
 "metadata": {
  "kernelspec": {
   "display_name": "Python 3 (ipykernel)",
   "language": "python",
   "name": "python3"
  },
  "language_info": {
   "codemirror_mode": {
    "name": "ipython",
    "version": 3
   },
   "file_extension": ".py",
   "mimetype": "text/x-python",
   "name": "python",
   "nbconvert_exporter": "python",
   "pygments_lexer": "ipython3",
   "version": "3.10.8"
  }
 },
 "nbformat": 4,
 "nbformat_minor": 5
}
